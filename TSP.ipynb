{
 "cells": [
  {
   "cell_type": "markdown",
   "metadata": {},
   "source": [
    "# Travelling Salesman Problem\n",
    "\n",
    "This is an homework of Artificial inteligence.\n",
    "\n",
    "The homework is to code the travelling salesman problem using genetic algorithm.\n",
    "\n",
    "Group:\n",
    "- Hendy Rodrigues F. Silva\n",
    "\n",
    "Id: 1510081\n",
    "\n",
    "**Homework by Professor Aragão Junior**\n",
    "\n",
    "\n"
   ]
  },
  {
   "cell_type": "markdown",
   "metadata": {},
   "source": [
    "### Definitions and auxiliar variables"
   ]
  },
  {
   "cell_type": "code",
   "execution_count": 1,
   "metadata": {},
   "outputs": [],
   "source": [
    "import numpy as np\n",
    "import random\n",
    "from random import *\n",
    "import matplotlib.pyplot as plt\n",
    "\n",
    "coord_x_file = open(\"data/x.txt\",\"r\")\n",
    "coord_y_file = open(\"data/y.txt\",\"r\")\n",
    "\n",
    "coord_x = coord_x_file.readlines()\n",
    "coord_x = list(map(lambda x: int(x.strip()) ,coord_x))\n",
    "\n",
    "coord_y = coord_y_file.readlines()\n",
    "coord_y = list(map(lambda y: int(y.strip()) ,coord_y))\n",
    "\n",
    "cities = list(zip(coord_x, coord_y))\n",
    "\n",
    "amount_select = 8 # deve ser divisivel por 4"
   ]
  },
  {
   "cell_type": "code",
   "execution_count": 2,
   "metadata": {
    "scrolled": true
   },
   "outputs": [
    {
     "data": {
      "text/plain": [
       "<matplotlib.collections.PathCollection at 0x7f61c8918278>"
      ]
     },
     "execution_count": 2,
     "metadata": {},
     "output_type": "execute_result"
    },
    {
     "ename": "AttributeError",
     "evalue": "module 'matplotlib.colors' has no attribute 'to_rgba'",
     "output_type": "error",
     "traceback": [
      "\u001b[0;31m---------------------------------------------------------------------------\u001b[0m",
      "\u001b[0;31mAttributeError\u001b[0m                            Traceback (most recent call last)",
      "\u001b[0;32m~/.local/lib/python3.5/site-packages/ipykernel/pylab/backend_inline.py\u001b[0m in \u001b[0;36mshow\u001b[0;34m(close, block)\u001b[0m\n\u001b[1;32m     37\u001b[0m             display(\n\u001b[1;32m     38\u001b[0m                 \u001b[0mfigure_manager\u001b[0m\u001b[0;34m.\u001b[0m\u001b[0mcanvas\u001b[0m\u001b[0;34m.\u001b[0m\u001b[0mfigure\u001b[0m\u001b[0;34m,\u001b[0m\u001b[0;34m\u001b[0m\u001b[0m\n\u001b[0;32m---> 39\u001b[0;31m                 \u001b[0mmetadata\u001b[0m\u001b[0;34m=\u001b[0m\u001b[0m_fetch_figure_metadata\u001b[0m\u001b[0;34m(\u001b[0m\u001b[0mfigure_manager\u001b[0m\u001b[0;34m.\u001b[0m\u001b[0mcanvas\u001b[0m\u001b[0;34m.\u001b[0m\u001b[0mfigure\u001b[0m\u001b[0;34m)\u001b[0m\u001b[0;34m\u001b[0m\u001b[0m\n\u001b[0m\u001b[1;32m     40\u001b[0m             )\n\u001b[1;32m     41\u001b[0m     \u001b[0;32mfinally\u001b[0m\u001b[0;34m:\u001b[0m\u001b[0;34m\u001b[0m\u001b[0m\n",
      "\u001b[0;32m~/.local/lib/python3.5/site-packages/ipykernel/pylab/backend_inline.py\u001b[0m in \u001b[0;36m_fetch_figure_metadata\u001b[0;34m(fig)\u001b[0m\n\u001b[1;32m    172\u001b[0m     \u001b[0;34m\"\"\"Get some metadata to help with displaying a figure.\"\"\"\u001b[0m\u001b[0;34m\u001b[0m\u001b[0m\n\u001b[1;32m    173\u001b[0m     \u001b[0;31m# determine if a background is needed for legibility\u001b[0m\u001b[0;34m\u001b[0m\u001b[0;34m\u001b[0m\u001b[0m\n\u001b[0;32m--> 174\u001b[0;31m     \u001b[0;32mif\u001b[0m \u001b[0m_is_transparent\u001b[0m\u001b[0;34m(\u001b[0m\u001b[0mfig\u001b[0m\u001b[0;34m.\u001b[0m\u001b[0mget_facecolor\u001b[0m\u001b[0;34m(\u001b[0m\u001b[0;34m)\u001b[0m\u001b[0;34m)\u001b[0m\u001b[0;34m:\u001b[0m\u001b[0;34m\u001b[0m\u001b[0m\n\u001b[0m\u001b[1;32m    175\u001b[0m         \u001b[0;31m# the background is transparent\u001b[0m\u001b[0;34m\u001b[0m\u001b[0;34m\u001b[0m\u001b[0m\n\u001b[1;32m    176\u001b[0m         ticksLight = _is_light([label.get_color()\n",
      "\u001b[0;32m~/.local/lib/python3.5/site-packages/ipykernel/pylab/backend_inline.py\u001b[0m in \u001b[0;36m_is_transparent\u001b[0;34m(color)\u001b[0m\n\u001b[1;32m    193\u001b[0m \u001b[0;32mdef\u001b[0m \u001b[0m_is_transparent\u001b[0m\u001b[0;34m(\u001b[0m\u001b[0mcolor\u001b[0m\u001b[0;34m)\u001b[0m\u001b[0;34m:\u001b[0m\u001b[0;34m\u001b[0m\u001b[0m\n\u001b[1;32m    194\u001b[0m     \u001b[0;34m\"\"\"Determine transparency from alpha.\"\"\"\u001b[0m\u001b[0;34m\u001b[0m\u001b[0m\n\u001b[0;32m--> 195\u001b[0;31m     \u001b[0mrgba\u001b[0m \u001b[0;34m=\u001b[0m \u001b[0mcolors\u001b[0m\u001b[0;34m.\u001b[0m\u001b[0mto_rgba\u001b[0m\u001b[0;34m(\u001b[0m\u001b[0mcolor\u001b[0m\u001b[0;34m)\u001b[0m\u001b[0;34m\u001b[0m\u001b[0m\n\u001b[0m\u001b[1;32m    196\u001b[0m     \u001b[0;32mreturn\u001b[0m \u001b[0mrgba\u001b[0m\u001b[0;34m[\u001b[0m\u001b[0;36m3\u001b[0m\u001b[0;34m]\u001b[0m \u001b[0;34m<\u001b[0m \u001b[0;36m.5\u001b[0m\u001b[0;34m\u001b[0m\u001b[0m\n",
      "\u001b[0;31mAttributeError\u001b[0m: module 'matplotlib.colors' has no attribute 'to_rgba'"
     ]
    }
   ],
   "source": [
    "plt.scatter(coord_x, coord_y)"
   ]
  },
  {
   "cell_type": "markdown",
   "metadata": {},
   "source": [
    "### Auxiliar functions"
   ]
  },
  {
   "cell_type": "code",
   "execution_count": 3,
   "metadata": {},
   "outputs": [],
   "source": [
    "def euclidian(city_from, city_to):\n",
    "    return np.sqrt((city_to[0]-city_from[0])**2 + (city_to[1]-city_from[1])**2)"
   ]
  },
  {
   "cell_type": "code",
   "execution_count": 4,
   "metadata": {},
   "outputs": [],
   "source": [
    "def fitness_func(list_cities_enum, cities):\n",
    "    sum_euclidian = 0\n",
    "    aux_city = -1\n",
    "    for i_city in list_cities_enum:\n",
    "        if aux_city != -1:\n",
    "            sum_euclidian += euclidian(cities[aux_city],cities[i_city])\n",
    "        aux_city = i_city\n",
    "    return sum_euclidian"
   ]
  },
  {
   "cell_type": "code",
   "execution_count": 5,
   "metadata": {},
   "outputs": [],
   "source": [
    "def create_random_paths(cities_e):\n",
    "    paths = []\n",
    "    \n",
    "    for sel in range(0,amount_select):\n",
    "        path =[i for i in range(len(cities_e))]\n",
    "        shuffle(path) #function that randomize lists\n",
    "        path.remove(0)\n",
    "        path.insert(0,0)\n",
    "        path.append(0)\n",
    "        paths.append(path)\n",
    "    return paths"
   ]
  },
  {
   "cell_type": "code",
   "execution_count": 6,
   "metadata": {},
   "outputs": [],
   "source": [
    "def ride_roulette(selecteds):\n",
    "    values = []\n",
    "    #Montar Roleta\n",
    "    #auxAccu = 0\n",
    "    for path in selecteds:\n",
    "        fitness = fitness_func(path,cities)\n",
    "        #auxAccu += fitness\n",
    "        values.append((path,fitness))\n",
    "        #valuesAccu.append(auxAccu)\n",
    "\n",
    "    # Calcular porcentagens\n",
    "    calcPerc = lambda x: (1/x)/sum([1/val[1] for val in values])\n",
    "\n",
    "    auxAccu = 0\n",
    "    for i, path in enumerate(values):\n",
    "        auxAccu += calcPerc(path[1])\n",
    "        values[i] = path + (calcPerc(path[1]), auxAccu)\n",
    "    return values"
   ]
  },
  {
   "cell_type": "code",
   "execution_count": 7,
   "metadata": {},
   "outputs": [],
   "source": [
    "def spin_roulette(generation):\n",
    "    rnd = random()\n",
    "    choose = list(filter(lambda q: q[3] > rnd, generation))\n",
    "    return min(choose,key=lambda x: x[3])"
   ]
  },
  {
   "cell_type": "code",
   "execution_count": 63,
   "metadata": {},
   "outputs": [],
   "source": [
    "def crossover(parent_one, parent_two):\n",
    "    \n",
    "    #Choose the 2 borders randomly\n",
    "    limits_one = sorted(sample(range(2,len(cities)-1),2))\n",
    "    limits_two = sorted(sample(range(2,len(cities)-1),2))\n",
    "    \n",
    "    #Get only core of each\n",
    "    core_one = [x for i, x in enumerate(parent_one) if i >= limits_one[0] and i <= limits_one[1]]\n",
    "    core_two = [x for i, x in enumerate(parent_two) if i >= limits_two[0] and i <= limits_two[1]]\n",
    "    \n",
    "    mount_one = []\n",
    "    mount_two = []\n",
    "    \n",
    "    \n",
    "    i = 0\n",
    "    aux = 0\n",
    "    \n",
    "    #Algorithm used: OX - Ordered Crossove\n",
    "    \n",
    "    print(\"------------------------\")\n",
    "    print(parent_one)\n",
    "    print(parent_two)\n",
    "    print(\"------------------------\")\n",
    "    \n",
    "    # Generate first descedent\n",
    "    while i < len(parent_one):\n",
    "        if i < limits_one[0] or i > limits_one[1]:\n",
    "            print(\"N: \"+str(i))\n",
    "            while (parent_two[aux] in core_one):\n",
    "                aux += 1\n",
    "            mount_one.append(parent_two[aux])\n",
    "            aux += 1\n",
    "        else:\n",
    "            mount_one.append(parent_one[i])\n",
    "        \n",
    "        i += 1\n",
    "    \n",
    "    aux = 0\n",
    "    n = 0\n",
    "    \n",
    "    # Generate second descedent\n",
    "    while n < len(parent_two):\n",
    "        if n < limits_two[0] or n > limits_two[1]:\n",
    "            print(\"N: \"+str(n))\n",
    "            while (parent_one[aux] in core_two):\n",
    "                aux += 1\n",
    "            mount_two.append(parent_one[aux])\n",
    "            aux += 1\n",
    "        else:\n",
    "            mount_two.append(parent_one[n])\n",
    "        \n",
    "        n += 1\n",
    "    return (mount_one, mount_two)"
   ]
  },
  {
   "cell_type": "code",
   "execution_count": 9,
   "metadata": {},
   "outputs": [],
   "source": [
    "def mutation(child):\n",
    "    for i in range(1,len(child)-1):\n",
    "        if random() >= 0.95:\n",
    "            pos = randrange(1, len(child)-1)\n",
    "            aux = child[i]\n",
    "            child[i] = child[pos]\n",
    "            child[pos] = aux\n",
    "    return child\n",
    "            "
   ]
  },
  {
   "cell_type": "code",
   "execution_count": 10,
   "metadata": {},
   "outputs": [],
   "source": [
    "def create_new_generation(selecteds):\n",
    "    i = 0\n",
    "    new_generation = []\n",
    "    while i < len(selecteds):\n",
    "        parent_one = selecteds[i]\n",
    "        parent_two = selecteds[i+1]\n",
    "        \n",
    "        child_one, child_two = crossover(parent_one, parent_two)\n",
    "        \n",
    "        #Mutante\n",
    "        child_one = mutation(child_one)\n",
    "        child_two = mutation(child_two)\n",
    "        \n",
    "        new_generation.append(child_one)\n",
    "        new_generation.append(child_two)\n",
    "        \n",
    "        i += 2\n",
    "        \n",
    "    return new_generation"
   ]
  },
  {
   "cell_type": "code",
   "execution_count": 38,
   "metadata": {},
   "outputs": [],
   "source": [
    "\n",
    "#selecteds = create_random_paths(cities)\n",
    "#roulette = ride_roulette(selecteds)\n",
    "#new_selects = [spin_roulette(roulette)[0] for i in range(0, amount_select)]\n",
    "#create_new_generation(new_selects)\n",
    "\n",
    "\n"
   ]
  },
  {
   "cell_type": "code",
   "execution_count": 64,
   "metadata": {
    "scrolled": true
   },
   "outputs": [
    {
     "name": "stdout",
     "output_type": "stream",
     "text": [
      "------------------------\n",
      "[0, 2, 6, 1, 5, 4, 3, 0]\n",
      "[0, 1, 5, 3, 6, 2, 4, 0]\n",
      "------------------------\n",
      "N: 0\n",
      "N: 1\n",
      "N: 6\n",
      "N: 7\n",
      "N: 0\n",
      "N: 1\n",
      "N: 5\n",
      "N: 6\n",
      "N: 7\n",
      "------------------------\n",
      "[0, 5, 1, 3, 6, 2, 4, 0]\n",
      "[0, 2, 6, 1, 5, 4, 3, 0]\n",
      "------------------------\n",
      "N: 0\n",
      "N: 1\n",
      "N: 2\n",
      "N: 5\n",
      "N: 6\n",
      "N: 7\n",
      "N: 0\n",
      "N: 1\n",
      "N: 2\n",
      "N: 3\n",
      "N: 6\n",
      "N: 7\n",
      "------------------------\n",
      "[0, 6, 1, 4, 5, 2, 3, 0]\n",
      "[0, 6, 1, 4, 5, 2, 3, 0]\n",
      "------------------------\n",
      "N: 0\n",
      "N: 1\n",
      "N: 2\n",
      "N: 6\n",
      "N: 7\n",
      "N: 0\n",
      "N: 1\n",
      "N: 4\n",
      "N: 5\n",
      "N: 6\n",
      "N: 7\n",
      "------------------------\n",
      "[0, 1, 5, 3, 6, 2, 4, 0]\n",
      "[0, 4, 2, 3, 1, 6, 5, 0]\n",
      "------------------------\n",
      "N: 0\n",
      "N: 1\n",
      "N: 2\n",
      "N: 3\n",
      "N: 6\n",
      "N: 7\n",
      "N: 0\n",
      "N: 1\n",
      "N: 2\n",
      "N: 6\n",
      "N: 7\n",
      "test1\n",
      "[0, 3, 6, 1, 5, 4, 2, 0]\n",
      "[0, 2, 6, 1, 5, 1, 4, 0]\n",
      "[0, 2, 1, 3, 6, 5, 4, 0]\n",
      "[0, 1, 3, 6, 6, 2, 2, 0]\n",
      "[0, 6, 1, 4, 5, 2, 3, 0]\n",
      "[0, 6, 1, 4, 5, 2, 3, 0]\n",
      "[0, 4, 3, 1, 6, 2, 5, 0]\n",
      "[0, 5, 2, 3, 6, 2, 4, 0]\n"
     ]
    }
   ],
   "source": [
    "population = create_random_paths(cities)\n",
    "\n",
    "selecteds = create_random_paths(cities)\n",
    "roulette = ride_roulette(selecteds)\n",
    "new_selects = [spin_roulette(roulette)[0] for i in range(0, amount_select)]\n",
    "test1 =create_new_generation(new_selects)\n",
    "\n",
    "print(\"test1\")\n",
    "for x in test1:\n",
    "    print(x)\n",
    "\n",
    "#population = []\n",
    "#print(population)\n",
    "\n",
    "#for i in range(0,2):\n",
    " #   roulette = ride_roulette(population)\n",
    "  #  new_selects = [spin_roulette(roulette)[0] for i in range(0, amount_select)]\n",
    "   # print(new_selects)\n",
    "    #population = create_new_generation(new_selects)\n",
    "    "
   ]
  },
  {
   "cell_type": "code",
   "execution_count": 65,
   "metadata": {},
   "outputs": [
    {
     "name": "stdout",
     "output_type": "stream",
     "text": [
      "------------------------\n",
      "[0, 4, 3, 1, 6, 2, 5, 0]\n",
      "[0, 2, 1, 3, 6, 5, 4, 0]\n",
      "------------------------\n",
      "N: 0\n",
      "N: 1\n",
      "N: 6\n",
      "N: 7\n",
      "N: 0\n",
      "N: 1\n",
      "N: 2\n",
      "N: 3\n",
      "N: 6\n",
      "N: 7\n",
      "------------------------\n",
      "[0, 1, 3, 6, 6, 2, 2, 0]\n",
      "[0, 2, 1, 3, 6, 5, 4, 0]\n",
      "------------------------\n",
      "N: 0\n",
      "N: 1\n",
      "N: 2\n",
      "N: 5\n",
      "N: 6\n",
      "N: 7\n",
      "N: 0\n",
      "N: 1\n",
      "N: 2\n",
      "N: 5\n",
      "N: 6\n",
      "N: 7\n"
     ]
    },
    {
     "ename": "IndexError",
     "evalue": "list index out of range",
     "output_type": "error",
     "traceback": [
      "\u001b[0;31m---------------------------------------------------------------------------\u001b[0m",
      "\u001b[0;31mIndexError\u001b[0m                                Traceback (most recent call last)",
      "\u001b[0;32m<ipython-input-65-2d309bd0e19a>\u001b[0m in \u001b[0;36m<module>\u001b[0;34m()\u001b[0m\n\u001b[1;32m      1\u001b[0m \u001b[0mroulette2\u001b[0m \u001b[0;34m=\u001b[0m \u001b[0mride_roulette\u001b[0m\u001b[0;34m(\u001b[0m\u001b[0mtest1\u001b[0m\u001b[0;34m)\u001b[0m\u001b[0;34m\u001b[0m\u001b[0m\n\u001b[1;32m      2\u001b[0m \u001b[0mnew_selects2\u001b[0m \u001b[0;34m=\u001b[0m \u001b[0;34m[\u001b[0m\u001b[0mspin_roulette\u001b[0m\u001b[0;34m(\u001b[0m\u001b[0mroulette2\u001b[0m\u001b[0;34m)\u001b[0m\u001b[0;34m[\u001b[0m\u001b[0;36m0\u001b[0m\u001b[0;34m]\u001b[0m \u001b[0;32mfor\u001b[0m \u001b[0mi\u001b[0m \u001b[0;32min\u001b[0m \u001b[0mrange\u001b[0m\u001b[0;34m(\u001b[0m\u001b[0;36m0\u001b[0m\u001b[0;34m,\u001b[0m \u001b[0mamount_select\u001b[0m\u001b[0;34m)\u001b[0m\u001b[0;34m]\u001b[0m\u001b[0;34m\u001b[0m\u001b[0m\n\u001b[0;32m----> 3\u001b[0;31m \u001b[0mtest2\u001b[0m \u001b[0;34m=\u001b[0m \u001b[0mcreate_new_generation\u001b[0m\u001b[0;34m(\u001b[0m\u001b[0mnew_selects2\u001b[0m\u001b[0;34m)\u001b[0m\u001b[0;34m\u001b[0m\u001b[0m\n\u001b[0m\u001b[1;32m      4\u001b[0m \u001b[0;34m\u001b[0m\u001b[0m\n\u001b[1;32m      5\u001b[0m \u001b[0mprint\u001b[0m\u001b[0;34m(\u001b[0m\u001b[0;34m\"test2\"\u001b[0m\u001b[0;34m)\u001b[0m\u001b[0;34m\u001b[0m\u001b[0m\n",
      "\u001b[0;32m<ipython-input-10-58d343416924>\u001b[0m in \u001b[0;36mcreate_new_generation\u001b[0;34m(selecteds)\u001b[0m\n\u001b[1;32m      6\u001b[0m         \u001b[0mparent_two\u001b[0m \u001b[0;34m=\u001b[0m \u001b[0mselecteds\u001b[0m\u001b[0;34m[\u001b[0m\u001b[0mi\u001b[0m\u001b[0;34m+\u001b[0m\u001b[0;36m1\u001b[0m\u001b[0;34m]\u001b[0m\u001b[0;34m\u001b[0m\u001b[0m\n\u001b[1;32m      7\u001b[0m \u001b[0;34m\u001b[0m\u001b[0m\n\u001b[0;32m----> 8\u001b[0;31m         \u001b[0mchild_one\u001b[0m\u001b[0;34m,\u001b[0m \u001b[0mchild_two\u001b[0m \u001b[0;34m=\u001b[0m \u001b[0mcrossover\u001b[0m\u001b[0;34m(\u001b[0m\u001b[0mparent_one\u001b[0m\u001b[0;34m,\u001b[0m \u001b[0mparent_two\u001b[0m\u001b[0;34m)\u001b[0m\u001b[0;34m\u001b[0m\u001b[0m\n\u001b[0m\u001b[1;32m      9\u001b[0m \u001b[0;34m\u001b[0m\u001b[0m\n\u001b[1;32m     10\u001b[0m         \u001b[0;31m#Mutante\u001b[0m\u001b[0;34m\u001b[0m\u001b[0;34m\u001b[0m\u001b[0m\n",
      "\u001b[0;32m<ipython-input-63-2b4cb4dd9a81>\u001b[0m in \u001b[0;36mcrossover\u001b[0;34m(parent_one, parent_two)\u001b[0m\n\u001b[1;32m     43\u001b[0m         \u001b[0;32mif\u001b[0m \u001b[0mn\u001b[0m \u001b[0;34m<\u001b[0m \u001b[0mlimits_two\u001b[0m\u001b[0;34m[\u001b[0m\u001b[0;36m0\u001b[0m\u001b[0;34m]\u001b[0m \u001b[0;32mor\u001b[0m \u001b[0mn\u001b[0m \u001b[0;34m>\u001b[0m \u001b[0mlimits_two\u001b[0m\u001b[0;34m[\u001b[0m\u001b[0;36m1\u001b[0m\u001b[0;34m]\u001b[0m\u001b[0;34m:\u001b[0m\u001b[0;34m\u001b[0m\u001b[0m\n\u001b[1;32m     44\u001b[0m             \u001b[0mprint\u001b[0m\u001b[0;34m(\u001b[0m\u001b[0;34m\"N: \"\u001b[0m\u001b[0;34m+\u001b[0m\u001b[0mstr\u001b[0m\u001b[0;34m(\u001b[0m\u001b[0mn\u001b[0m\u001b[0;34m)\u001b[0m\u001b[0;34m)\u001b[0m\u001b[0;34m\u001b[0m\u001b[0m\n\u001b[0;32m---> 45\u001b[0;31m             \u001b[0;32mwhile\u001b[0m \u001b[0;34m(\u001b[0m\u001b[0mparent_one\u001b[0m\u001b[0;34m[\u001b[0m\u001b[0maux\u001b[0m\u001b[0;34m]\u001b[0m \u001b[0;32min\u001b[0m \u001b[0mcore_two\u001b[0m\u001b[0;34m)\u001b[0m\u001b[0;34m:\u001b[0m\u001b[0;34m\u001b[0m\u001b[0m\n\u001b[0m\u001b[1;32m     46\u001b[0m                 \u001b[0maux\u001b[0m \u001b[0;34m+=\u001b[0m \u001b[0;36m1\u001b[0m\u001b[0;34m\u001b[0m\u001b[0m\n\u001b[1;32m     47\u001b[0m             \u001b[0mmount_two\u001b[0m\u001b[0;34m.\u001b[0m\u001b[0mappend\u001b[0m\u001b[0;34m(\u001b[0m\u001b[0mparent_one\u001b[0m\u001b[0;34m[\u001b[0m\u001b[0maux\u001b[0m\u001b[0;34m]\u001b[0m\u001b[0;34m)\u001b[0m\u001b[0;34m\u001b[0m\u001b[0m\n",
      "\u001b[0;31mIndexError\u001b[0m: list index out of range"
     ]
    }
   ],
   "source": [
    "roulette2 = ride_roulette(test1)\n",
    "new_selects2 = [spin_roulette(roulette2)[0] for i in range(0, amount_select)]\n",
    "test2 = create_new_generation(new_selects2)\n",
    "\n",
    "print(\"test2\")\n",
    "print(new_selects2)"
   ]
  },
  {
   "cell_type": "code",
   "execution_count": null,
   "metadata": {},
   "outputs": [],
   "source": []
  },
  {
   "cell_type": "code",
   "execution_count": null,
   "metadata": {},
   "outputs": [],
   "source": []
  },
  {
   "cell_type": "code",
   "execution_count": null,
   "metadata": {},
   "outputs": [],
   "source": []
  },
  {
   "cell_type": "code",
   "execution_count": null,
   "metadata": {},
   "outputs": [],
   "source": []
  }
 ],
 "metadata": {
  "kernelspec": {
   "display_name": "Python 3",
   "language": "python",
   "name": "python3"
  },
  "language_info": {
   "codemirror_mode": {
    "name": "ipython",
    "version": 3
   },
   "file_extension": ".py",
   "mimetype": "text/x-python",
   "name": "python",
   "nbconvert_exporter": "python",
   "pygments_lexer": "ipython3",
   "version": "3.5.2"
  }
 },
 "nbformat": 4,
 "nbformat_minor": 2
}
