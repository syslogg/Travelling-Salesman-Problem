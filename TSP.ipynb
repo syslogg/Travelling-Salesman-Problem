{
 "cells": [
  {
   "cell_type": "markdown",
   "metadata": {},
   "source": [
    "# Travelling Salesman Problem\n",
    "\n",
    "This is an homework of Artificial inteligence.\n",
    "\n",
    "The homework is to code the travelling salesman problem using genetic algorithm.\n",
    "\n",
    "Group:\n",
    "- Hendy Rodrigues F. Silva\n",
    "\n",
    "Id: 1510081\n",
    "\n",
    "**Homework by Professor Aragão Junior**\n",
    "\n",
    "\n"
   ]
  },
  {
   "cell_type": "code",
   "execution_count": 49,
   "metadata": {},
   "outputs": [
    {
     "name": "stdout",
     "output_type": "stream",
     "text": [
      "['0', '42', '43', '33', '77', '71', '34', '8', '79', '31', '96', '87', '7', '96', '11', '94', '16', '5', '27', '14', '57', '76', '44', '66', '27', '33', '0', '76', '67', '65', '60', '51', '75', '44', '14', '62', '4', '62', '33', '99', '43', '57', '22', '28', '73', '86', '88', '11', '32', '29', '96', '49', '65', '79', '28', '46', '15', '53', '48', '10', '2', '48', '7', '28', '27', '20', '83', '65', '65', '61', '19', '16', '11', '44', '5', '87', '68', '24', '48', '62', '62', '38', '61', '6', '6', '79', '74', '91', '87', '19', '76', '88', '97', '68', '53', '94', '48', '57', '55', '72', '']\n"
     ]
    }
   ],
   "source": [
    "coord_x_file = open(\"data/x.dat\",\"r\")\n",
    "coord_y_file = open(\"data/y.dat\",\"r\")\n",
    "\n",
    "coord_x = coord_x_file.readlines()\n",
    "coord_x = list(map(lambda x: x.rstrip().strip() ,coord_x))\n",
    "\n",
    "coord_y = coord_y_file.readlines()\n",
    "coord_y = list(map(lambda x: int(x.strip()) ,coord_y))\n",
    "\n",
    "print (coord_x)"
   ]
  },
  {
   "cell_type": "code",
   "execution_count": null,
   "metadata": {},
   "outputs": [],
   "source": []
  },
  {
   "cell_type": "code",
   "execution_count": null,
   "metadata": {},
   "outputs": [],
   "source": []
  },
  {
   "cell_type": "code",
   "execution_count": null,
   "metadata": {},
   "outputs": [],
   "source": []
  }
 ],
 "metadata": {
  "kernelspec": {
   "display_name": "Python 3",
   "language": "python",
   "name": "python3"
  },
  "language_info": {
   "codemirror_mode": {
    "name": "ipython",
    "version": 3
   },
   "file_extension": ".py",
   "mimetype": "text/x-python",
   "name": "python",
   "nbconvert_exporter": "python",
   "pygments_lexer": "ipython3",
   "version": "3.5.2"
  }
 },
 "nbformat": 4,
 "nbformat_minor": 2
}
