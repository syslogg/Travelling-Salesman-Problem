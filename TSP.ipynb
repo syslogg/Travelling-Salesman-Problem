{
 "cells": [
  {
   "cell_type": "markdown",
   "metadata": {},
   "source": [
    "# Travelling Salesman Problem\n",
    "\n",
    "This is an homework of Artificial inteligence.\n",
    "\n",
    "The homework is to code the travelling salesman problem using genetic algorithm.\n",
    "\n",
    "Group:\n",
    "- Hendy Rodrigues F. Silva\n",
    "\n",
    "Id: 1510081\n",
    "\n",
    "**Homework by Professor Aragão Junior**\n",
    "\n",
    "\n"
   ]
  },
  {
   "cell_type": "markdown",
   "metadata": {},
   "source": [
    "### Definitions and auxiliar variables"
   ]
  },
  {
   "cell_type": "code",
   "execution_count": 4,
   "metadata": {},
   "outputs": [
    {
     "data": {
      "text/plain": [
       "<matplotlib.collections.PathCollection at 0x11340b7f0>"
      ]
     },
     "execution_count": 4,
     "metadata": {},
     "output_type": "execute_result"
    },
    {
     "data": {
      "image/png": "[encoded data removed]",
      "text/plain": [
       "<Figure size 432x288 with 1 Axes>"
      ]
     },
     "metadata": {},
     "output_type": "display_data"
    }
   ],
   "source": [
    "import numpy as np\n",
    "import matplotlib.pyplot as plt\n",
    "\n",
    "coord_x_file = open(\"data/x.txt\",\"r\")\n",
    "coord_y_file = open(\"data/y.txt\",\"r\")\n",
    "\n",
    "coord_x = coord_x_file.readlines()\n",
    "coord_x = list(map(lambda x: int(x.strip()) ,coord_x))\n",
    "\n",
    "coord_y = coord_y_file.readlines()\n",
    "coord_y = list(map(lambda x: int(x.strip()) ,coord_y))\n",
    "cities = list(zip(coord_x, coord_y))\n",
    "\n",
    "amost = 30\n",
    "\n",
    "plt.scatter(coord_x, coord_y)"
   ]
  },
  {
   "cell_type": "markdown",
   "metadata": {},
   "source": [
    "### Auxiliar functions"
   ]
  },
  {
   "cell_type": "code",
   "execution_count": 5,
   "metadata": {},
   "outputs": [],
   "source": [
    "def euclidian(city_from, city_to):\n",
    "    return np.sqrt((city_to[0]-city_from[0])**2 + (city_to[1]-city_from[1])**2)"
   ]
  },
  {
   "cell_type": "code",
   "execution_count": null,
   "metadata": {},
   "outputs": [],
   "source": []
  },
  {
   "cell_type": "code",
   "execution_count": null,
   "metadata": {},
   "outputs": [],
   "source": []
  },
  {
   "cell_type": "code",
   "execution_count": null,
   "metadata": {},
   "outputs": [],
   "source": []
  }
 ],
 "metadata": {
  "kernelspec": {
   "display_name": "Python 3",
   "language": "python",
   "name": "python3"
  },
  "language_info": {
   "codemirror_mode": {
    "name": "ipython",
    "version": 3
   },
   "file_extension": ".py",
   "mimetype": "text/x-python",
   "name": "python",
   "nbconvert_exporter": "python",
   "pygments_lexer": "ipython3",
   "version": "3.6.5"
  }
 },
 "nbformat": 4,
 "nbformat_minor": 2
}
