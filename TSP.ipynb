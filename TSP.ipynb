{
 "cells": [
  {
   "cell_type": "markdown",
   "metadata": {},
   "source": [
    "# Travelling Salesman Problem\n",
    "\n",
    "This is an homework of Artificial inteligence.\n",
    "\n",
    "The homework is to code the travelling salesman problem using genetic algorithm.\n",
    "\n",
    "Group:\n",
    "- Hendy Rodrigues F. Silva\n",
    "\n",
    "Id: 1510081\n",
    "\n",
    "**Homework by Professor Aragão Junior**\n",
    "\n",
    "\n"
   ]
  },
  {
   "cell_type": "markdown",
   "metadata": {},
   "source": [
    "### Definitions and auxiliar variables"
   ]
  },
  {
   "cell_type": "code",
   "execution_count": 1,
   "metadata": {},
   "outputs": [],
   "source": [
    "import numpy as np\n",
    "import random\n",
    "from random import *\n",
    "import matplotlib.pyplot as plt\n",
    "\n",
    "coord_x_file = open(\"data/x.txt\",\"r\")\n",
    "coord_y_file = open(\"data/y.txt\",\"r\")\n",
    "\n",
    "coord_x = coord_x_file.readlines()\n",
    "coord_x = list(map(lambda x: int(x.strip()) ,coord_x))\n",
    "\n",
    "coord_y = coord_y_file.readlines()\n",
    "coord_y = list(map(lambda y: int(y.strip()) ,coord_y))\n",
    "\n",
    "cities = list(zip(coord_x, coord_y))\n",
    "\n",
    "amount_select = 8 # deve ser divisivel por 4"
   ]
  },
  {
   "cell_type": "code",
   "execution_count": 2,
   "metadata": {
    "scrolled": true
   },
   "outputs": [
    {
     "data": {
      "text/plain": [
       "<matplotlib.collections.PathCollection at 0x118de6160>"
      ]
     },
     "execution_count": 2,
     "metadata": {},
     "output_type": "execute_result"
    },
    {
     "data": {
      "image/png": "[encoded data removed]",
      "text/plain": [
       "<Figure size 432x288 with 1 Axes>"
      ]
     },
     "metadata": {},
     "output_type": "display_data"
    }
   ],
   "source": [
    "plt.scatter(coord_x, coord_y)"
   ]
  },
  {
   "cell_type": "markdown",
   "metadata": {},
   "source": [
    "### Auxiliar functions"
   ]
  },
  {
   "cell_type": "code",
   "execution_count": 3,
   "metadata": {},
   "outputs": [],
   "source": [
    "def euclidian(city_from, city_to):\n",
    "    return np.sqrt((city_to[0]-city_from[0])**2 + (city_to[1]-city_from[1])**2)"
   ]
  },
  {
   "cell_type": "code",
   "execution_count": 4,
   "metadata": {},
   "outputs": [],
   "source": [
    "def fitness_func(list_cities_enum, cities):\n",
    "    sum_euclidian = 0\n",
    "    aux_city = -1\n",
    "    for i_city in list_cities_enum:\n",
    "        if aux_city != -1:\n",
    "            sum_euclidian += euclidian(cities[aux_city],cities[i_city])\n",
    "        aux_city = i_city\n",
    "    return sum_euclidian"
   ]
  },
  {
   "cell_type": "code",
   "execution_count": 5,
   "metadata": {},
   "outputs": [],
   "source": [
    "def create_random_paths(cities_e):\n",
    "    paths = []\n",
    "    \n",
    "    for sel in range(0,amount_select):\n",
    "        path =[i for i in range(len(cities_e))]\n",
    "        shuffle(path) #function that randomize lists\n",
    "        path.remove(0)\n",
    "        path.insert(0,0)\n",
    "        path.append(0)\n",
    "        paths.append(path)\n",
    "    return paths"
   ]
  },
  {
   "cell_type": "code",
   "execution_count": 6,
   "metadata": {},
   "outputs": [],
   "source": [
    "def ride_roulette(selecteds):\n",
    "    values = []\n",
    "    #Montar Roleta\n",
    "    #auxAccu = 0\n",
    "    for path in selecteds:\n",
    "        fitness = fitness_func(path,cities)\n",
    "        #auxAccu += fitness\n",
    "        values.append((path,fitness))\n",
    "        #valuesAccu.append(auxAccu)\n",
    "\n",
    "    # Calcular porcentagens\n",
    "    calcPerc = lambda x: (1/x)/sum([1/val[1] for val in values])\n",
    "\n",
    "    auxAccu = 0\n",
    "    for i, path in enumerate(values):\n",
    "        auxAccu += calcPerc(path[1])\n",
    "        values[i] = path + (calcPerc(path[1]), auxAccu)\n",
    "    return values"
   ]
  },
  {
   "cell_type": "code",
   "execution_count": 9,
   "metadata": {},
   "outputs": [],
   "source": [
    "def spin_roulette(generation):\n",
    "    rnd = random()\n",
    "    choose = list(filter(lambda q: q[3] > rnd, generation))\n",
    "    return min(choose,key=lambda x: x[3])"
   ]
  },
  {
   "cell_type": "code",
   "execution_count": 45,
   "metadata": {},
   "outputs": [],
   "source": [
    "def crossover(parent_one, parent_two):\n",
    "    limits_one = sorted(sample(range(2,len(cities)-1),2))\n",
    "    limits_two = sorted(sample(range(2,len(cities)-1),2))\n",
    "    \n",
    "    core_one = [x for i, x in enumerate(parent_one) if i >= limits_one[0] and i <= limits_one[1]]\n",
    "    core_two = [x for i, x in enumerate(parent_two) if i >= limits_two[0] and i <= limits_two[1]]\n",
    "    \n",
    "    mount_one = []\n",
    "    #aux_one = parent_two.copy()\n",
    "    \n",
    "    mount_two = []\n",
    "    #aux_two = parent_one.copy()\n",
    "    \n",
    "    #print(limits_one)\n",
    "    #print(core_one)\n",
    "    #print(parent_one)\n",
    "    \n",
    "    #print(limits_two)\n",
    "    #print(core_two)\n",
    "    #print(parent_two)\n",
    "    #print('----------------------------------')\n",
    "    \n",
    "    i = 0\n",
    "    aux = 0\n",
    "    \n",
    "    while i < len(parent_one):\n",
    "        if i < limits_one[0] or i > limits_one[1]:\n",
    "            while parent_two[aux] in core_one\n",
    "                aux += 1\n",
    "            mount_one.append(parent_two[aux])\n",
    "        else:\n",
    "            mount_one.append(parent_one[i])\n",
    "        \n",
    "        i += 1\n",
    "            \n",
    "    "
   ]
  },
  {
   "cell_type": "code",
   "execution_count": 31,
   "metadata": {},
   "outputs": [],
   "source": [
    "def create_new_generation(selecteds):\n",
    "    i = 0\n",
    "    while i < len(selecteds):\n",
    "        parent_one = selecteds[i]\n",
    "        parent_two = selecteds[i+1]\n",
    "        \n",
    "        ##limits_one = sorted(sample(range(1,len(cities)-1),2))\n",
    "        ##limits_two = sorted(sample(range(1,len(cities)-1),2))\n",
    "        \n",
    "        crossover(parent_one, parent_two)\n",
    "        \n",
    "        #print(limits_one)\n",
    "        #print(limits_two)\n",
    "        \n",
    "        i += 2\n",
    "        "
   ]
  },
  {
   "cell_type": "code",
   "execution_count": 32,
   "metadata": {},
   "outputs": [],
   "source": [
    "selecteds = create_random_paths(cities)\n",
    "cho = ride_roulette(selecteds)\n",
    "new_selects = [spin_roulette(cho)[0] for i in range(0, amount_select)]\n",
    "#spin_roulette(cho)"
   ]
  },
  {
   "cell_type": "code",
   "execution_count": 46,
   "metadata": {
    "scrolled": true
   },
   "outputs": [
    {
     "name": "stdout",
     "output_type": "stream",
     "text": [
      "[3, 5]\n",
      "[3, 6, 5]\n",
      "[0, 2, 4, 3, 6, 5, 1, 0]\n",
      "[2, 4]\n",
      "[5, 6, 2]\n",
      "[0, 1, 5, 6, 2, 4, 3, 0]\n",
      "----------------------------------\n",
      "[2, 4]\n",
      "[5, 6, 2]\n",
      "[0, 1, 5, 6, 2, 4, 3, 0]\n",
      "[2, 5]\n",
      "[4, 3, 6, 5]\n",
      "[0, 2, 4, 3, 6, 5, 1, 0]\n",
      "----------------------------------\n",
      "[2, 3]\n",
      "[1, 5]\n",
      "[0, 2, 1, 5, 3, 4, 6, 0]\n",
      "[2, 5]\n",
      "[5, 6, 2, 4]\n",
      "[0, 1, 5, 6, 2, 4, 3, 0]\n",
      "----------------------------------\n",
      "[2, 5]\n",
      "[4, 3, 6, 5]\n",
      "[0, 2, 4, 3, 6, 5, 1, 0]\n",
      "[2, 5]\n",
      "[4, 3, 6, 5]\n",
      "[0, 2, 4, 3, 6, 5, 1, 0]\n",
      "----------------------------------\n"
     ]
    }
   ],
   "source": [
    "create_new_generation(new_selects)"
   ]
  },
  {
   "cell_type": "code",
   "execution_count": 38,
   "metadata": {},
   "outputs": [
    {
     "data": {
      "text/plain": [
       "[[0, 2, 4, 3, 6, 5, 1, 0],\n",
       " [0, 1, 5, 6, 2, 4, 3, 0],\n",
       " [0, 1, 5, 6, 2, 4, 3, 0],\n",
       " [0, 2, 4, 3, 6, 5, 1, 0],\n",
       " [0, 2, 1, 5, 3, 4, 6, 0],\n",
       " [0, 1, 5, 6, 2, 4, 3, 0],\n",
       " [0, 2, 4, 3, 6, 5, 1, 0],\n",
       " [0, 2, 4, 3, 6, 5, 1, 0]]"
      ]
     },
     "execution_count": 38,
     "metadata": {},
     "output_type": "execute_result"
    }
   ],
   "source": [
    "new_selects"
   ]
  },
  {
   "cell_type": "code",
   "execution_count": null,
   "metadata": {},
   "outputs": [],
   "source": [
    "len(cities)-2"
   ]
  },
  {
   "cell_type": "code",
   "execution_count": null,
   "metadata": {},
   "outputs": [],
   "source": [
    "cho"
   ]
  },
  {
   "cell_type": "code",
   "execution_count": null,
   "metadata": {},
   "outputs": [],
   "source": [
    "sample(range(0,5), 2)"
   ]
  },
  {
   "cell_type": "code",
   "execution_count": null,
   "metadata": {},
   "outputs": [],
   "source": []
  }
 ],
 "metadata": {
  "kernelspec": {
   "display_name": "Python 3",
   "language": "python",
   "name": "python3"
  },
  "language_info": {
   "codemirror_mode": {
    "name": "ipython",
    "version": 3
   },
   "file_extension": ".py",
   "mimetype": "text/x-python",
   "name": "python",
   "nbconvert_exporter": "python",
   "pygments_lexer": "ipython3",
   "version": "3.6.5"
  }
 },
 "nbformat": 4,
 "nbformat_minor": 2
}
