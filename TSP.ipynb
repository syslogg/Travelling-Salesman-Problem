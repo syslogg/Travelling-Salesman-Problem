{
 "cells": [
  {
   "cell_type": "markdown",
   "metadata": {},
   "source": [
    "# Problema do caixeiro viajante\n",
    "\n",
    "Este é o trabalho de IA.\n",
    "\n",
    "Grupo:\n",
    "- Hendy Rodrigues F. Silva\n",
    "\n",
    "Mat: 1510081\n",
    "\n",
    "**Trabalho por Prof. Aragão**\n",
    "\n",
    "Problema do Caixeiro viajante utilizando algoritmo genético com a premissa de sair do ponto 0 e voltar para o ponto 0.\n"
   ]
  },
  {
   "cell_type": "markdown",
   "metadata": {},
   "source": [
    "### Definições"
   ]
  },
  {
   "cell_type": "code",
   "execution_count": 1,
   "metadata": {},
   "outputs": [],
   "source": [
    "import numpy as np\n",
    "import random\n",
    "from random import *\n",
    "import matplotlib.pyplot as plt\n",
    "\n",
    "coord_x_file = open(\"data/coordenadasx.dat\",\"r\")\n",
    "coord_y_file = open(\"data/coordenadasy.dat\",\"r\")\n",
    "\n",
    "coord_x = coord_x_file.readlines()\n",
    "coord_x = list(map(lambda x: int(x.strip()) ,coord_x))\n",
    "\n",
    "coord_y = coord_y_file.readlines()\n",
    "coord_y = list(map(lambda y: int(y.strip()) ,coord_y))\n",
    "\n",
    "# Variavel que contem as cordenadas das cidades no formato (X, Y)\n",
    "cities = list(zip(coord_x, coord_y))\n",
    "\n",
    "# Quantidade da população\n",
    "amount_select = 300 # deve ser divisivel por 2"
   ]
  },
  {
   "cell_type": "code",
   "execution_count": 2,
   "metadata": {
    "scrolled": true
   },
   "outputs": [
    {
     "data": {
      "text/plain": [
       "<matplotlib.collections.PathCollection at 0x7f69d780b198>"
      ]
     },
     "execution_count": 2,
     "metadata": {},
     "output_type": "execute_result"
    },
    {
     "data": {
      "image/png": "[encoded data removed]",
      "text/plain": [
       "<Figure size 432x288 with 1 Axes>"
      ]
     },
     "metadata": {
      "needs_background": "light"
     },
     "output_type": "display_data"
    }
   ],
   "source": [
    "plt.scatter(coord_x, coord_y)"
   ]
  },
  {
   "cell_type": "markdown",
   "metadata": {},
   "source": [
    "### Funções auxiliares"
   ]
  },
  {
   "cell_type": "markdown",
   "metadata": {},
   "source": [
    "**Função euclidiana**\n",
    "- Calcula a distância euclidiana de duas cidades.\n",
    "\n",
    "Ela recebe tuplas no formato **(x, y)**"
   ]
  },
  {
   "cell_type": "code",
   "execution_count": 3,
   "metadata": {},
   "outputs": [],
   "source": [
    "def euclidian(city_from, city_to):\n",
    "    return np.sqrt((city_to[0]-city_from[0])**2 + (city_to[1]-city_from[1])**2)"
   ]
  },
  {
   "cell_type": "markdown",
   "metadata": {},
   "source": [
    "**Criação de buffer**\n",
    "\n",
    "Pega distância euclidianas e armazena num vetor ``mapCity[cidadeA][CidadeB]`` sendo que as representações da cidades são por números. (Explico abaixo)"
   ]
  },
  {
   "cell_type": "code",
   "execution_count": 4,
   "metadata": {},
   "outputs": [],
   "source": [
    "mapCity = []\n",
    "for city1 in cities:\n",
    "    temp = []\n",
    "    for city2 in cities:\n",
    "        temp.append(euclidian(city1,city2))\n",
    "    mapCity.append(temp)"
   ]
  },
  {
   "cell_type": "markdown",
   "metadata": {},
   "source": [
    "**Função de aptidão**\n",
    "\n",
    "A partir da variavel ``mapCity`` que contem uma matriz com as distâncias euclidianas da combinação de todas as cidades, ele pega uma lista de cidade e cria e calcula a soma de todas as cidades (no caso do problema do caixeiro viajante)."
   ]
  },
  {
   "cell_type": "code",
   "execution_count": 5,
   "metadata": {},
   "outputs": [],
   "source": [
    "def fitness_func(list_cities_enum, cities):\n",
    "    # Calculo da soma das função euclidiana de uma determinada lista de cidades\n",
    "    sum_euclidian = 0\n",
    "    aux_city = -1\n",
    "    for i_city in list_cities_enum:\n",
    "        if aux_city != -1:\n",
    "            sum_euclidian += mapCity[aux_city][i_city]\n",
    "        aux_city = i_city\n",
    "    return sum_euclidian"
   ]
  },
  {
   "cell_type": "markdown",
   "metadata": {},
   "source": [
    "**Criar população inicial**\n",
    "\n",
    "A partir da variavel ``amount_select`` ele cria essa quantidade de cromossomos para uma população inicial do caixeiero viajante, totalmente aleatoria."
   ]
  },
  {
   "cell_type": "code",
   "execution_count": 6,
   "metadata": {},
   "outputs": [],
   "source": [
    "def create_random_paths(cities_e):\n",
    "    paths = []\n",
    "    \n",
    "    for sel in range(0,amount_select):\n",
    "        path =[i for i in range(len(cities_e))] # Gera um array de 0 até len(Cidades)\n",
    "        shuffle(path) #Função que embaralha uma lista aleatoriamente\n",
    "        \n",
    "        # Remove o zero da lista e adiciona um zero no inicio e no final da lista \n",
    "        # PS: Os zeros para representar a SAIDA do ponto 0 e o retorno para o ponto 0\n",
    "        path.remove(0)\n",
    "        path.insert(0,0)\n",
    "        path.append(0)\n",
    "        paths.append(path)\n",
    "    return paths"
   ]
  },
  {
   "cell_type": "markdown",
   "metadata": {},
   "source": [
    "**Montar roleta**\n",
    "\n",
    "A partir de uma população que ele passa como parametro, ele cria um array contendo informações de cada cromossomo da população a partir de uma **tupla** nesse modelo:\n",
    "#### **([ cromossomo ], função de aptidão, porcentagem acumulada)**"
   ]
  },
  {
   "cell_type": "code",
   "execution_count": 7,
   "metadata": {},
   "outputs": [],
   "source": [
    "def ride_roulette(selecteds):\n",
    "    values = []\n",
    "    #Montar Roleta\n",
    "    #auxAccu = 0\n",
    "    for path in selecteds:\n",
    "        fitness = fitness_func(path,cities)\n",
    "        #auxAccu += fitness\n",
    "        values.append((path,fitness))\n",
    "        #valuesAccu.append(auxAccu)\n",
    "\n",
    "    # Calcular porcentagens\n",
    "    calcPerc = lambda x: (1/x)/sum([1/val[1] for val in values])\n",
    "\n",
    "    auxAccu = 0\n",
    "    for i, path in enumerate(values):\n",
    "        auxAccu += calcPerc(path[1])\n",
    "        values[i] = path + (calcPerc(path[1]), auxAccu)\n",
    "    return values"
   ]
  },
  {
   "cell_type": "markdown",
   "metadata": {},
   "source": [
    "**Gira roleta**\n",
    "\n",
    "A partir de um parametro de array com o modelo da roleta gerado pela função anterior, ele retorna **UM** item do array, de acordo com a porcentagem acumulada da roletada que foi passada por parametro.\n",
    "Ele escolhe o array pelo valor da função ``random()``, ele filtra o array pelo valor da porcentagem acumulada, fazendo que retorna-se apenas os maiores que o valor randomico, e pega o primeiro da lista. Que no caso seria equivalente ao selecionar o quadrante da roleta."
   ]
  },
  {
   "cell_type": "code",
   "execution_count": 8,
   "metadata": {},
   "outputs": [],
   "source": [
    "def spin_roulette(generation):\n",
    "    rnd = random()\n",
    "    choose = list(filter(lambda q: q[3] > rnd, generation))\n",
    "    return min(choose,key=lambda x: x[3])"
   ]
  },
  {
   "cell_type": "markdown",
   "metadata": {},
   "source": [
    "**Monta o crossover**\n",
    "\n",
    "Essa função faz parte do crossover, foi utilizado o crossover OX (OX Crossover). Essa função recebe parametros de limites dos 2 cromossomos (linha de corte) e o nucleo de cada cromossomo e faz as devidas alterações para geração de um novo filho."
   ]
  },
  {
   "cell_type": "code",
   "execution_count": 9,
   "metadata": {},
   "outputs": [],
   "source": [
    "def mount_crossover(parent_one, parent_two, core_one, core_two, limits):\n",
    "    i = limits[1]+1\n",
    "    aux = limits[1]+1\n",
    "    mount = []\n",
    "    tail = []\n",
    "    head = []\n",
    "    \n",
    "    #Monto o rabo\n",
    "    while i < len(parent_one):\n",
    "        while (parent_two[ aux % len(parent_one) ] in core_one):\n",
    "            aux += 1\n",
    "        tail.append(parent_two[ aux % len(parent_one) ])\n",
    "        aux += 1\n",
    "        i += 1\n",
    "        \n",
    "    #Monto o cabeça\n",
    "    i = 0\n",
    "    while i < limits[0]:\n",
    "        while (parent_two[ aux % len(parent_one) ] in core_one):\n",
    "            aux += 1\n",
    "        head.append(parent_two[ aux % len(parent_one) ])\n",
    "        aux += 1\n",
    "        i += 1\n",
    "    return head + core_one + tail"
   ]
  },
  {
   "cell_type": "markdown",
   "metadata": {},
   "source": [
    "**Efetua de fato o crossover**\n",
    "\n",
    "Essa função faz parte do crossover, ela sorteia os limites que serão dos cortes dos cromossomos, separa os cromossomos em nucleos e faz o crossover com os 2 cromossomo."
   ]
  },
  {
   "cell_type": "code",
   "execution_count": 10,
   "metadata": {},
   "outputs": [],
   "source": [
    "def crossover(parent_one, parent_two):\n",
    "    \n",
    "    #Choose the 2 borders randomly\n",
    "    parent_one_a = parent_one.copy()\n",
    "    parent_two_a = parent_two.copy()\n",
    "    \n",
    "    #Retira os primeiros e ultimos filhos para manter sempre o algoritmo para retornar para cidade (Inicio 0 e Fim 0)\n",
    "    \n",
    "    parent_one_a.pop()\n",
    "    parent_one_a.pop(0)\n",
    "    parent_two_a.pop()\n",
    "    parent_two_a.pop(0)\n",
    "    \n",
    "    #limits = sorted(sample(range(2,len(cities)-1-2),2))\n",
    "    \n",
    "    limits = sorted(sample(range(1,len(parent_one_a)-1),2))\n",
    "    \n",
    "    #Get only core of each\n",
    "    core_one = [x for i, x in enumerate(parent_one_a) if i >= limits[0] and i <= limits[1]]\n",
    "    core_two = [x for i, x in enumerate(parent_two_a) if i >= limits[0] and i <= limits[1]]\n",
    "    \n",
    "    mount_one = [0] + mount_crossover(parent_one_a,parent_two_a,core_one,core_two,limits) + [0]\n",
    "    mount_two = [0] + mount_crossover(parent_two_a,parent_one_a,core_two,core_one,limits) + [0]\n",
    "        \n",
    "    return (mount_one, mount_two)"
   ]
  },
  {
   "cell_type": "markdown",
   "metadata": {},
   "source": [
    "**Mutação**\n",
    "\n",
    "Essa função simplesmente faz a mutação por reverse, seleciona 2 posições aleatorias e elas trocam de lugar.\n",
    "\n",
    "Vale ressaltar que ela verifica SE ``random()`` é maior que ``0.95``, sendo assim, ele tem ``0.05`` de chance de ser maior que ``0.95`` o que totaliza 5%, levando em consideração que a função ``random()`` vai de 0.0 até 1.0."
   ]
  },
  {
   "cell_type": "code",
   "execution_count": 11,
   "metadata": {},
   "outputs": [],
   "source": [
    "def mutation(child):\n",
    "    for i in range(1,len(child)-1):\n",
    "        if random() >= 0.95: # o random() tem que ser maior que 0.95 dando uma chance de 5%\n",
    "            \n",
    "            # Pega um numero aleatorio entre a posição 1 e len()-1, para não aplicar mutação no\n",
    "            # inicio ou fim (que é a cidade inicial)\n",
    "            pos = randrange(1, len(child)-1) \n",
    "            \n",
    "            #Troca as posições\n",
    "            aux = child[i]\n",
    "            child[i] = child[pos]\n",
    "            child[pos] = aux\n",
    "    return child\n",
    "            "
   ]
  },
  {
   "cell_type": "markdown",
   "metadata": {},
   "source": [
    "**Criar nova geração**\n",
    "\n",
    "Essa função engloba as funções de crossover e mutação. Passa-se por parametro uma geração, e ela retorna outra geração filhas da geração passada.\n",
    "Vale ressaltar que o loop passa a cada dois cromossomos, então obrigatoriamente a população inicial deve ser par."
   ]
  },
  {
   "cell_type": "code",
   "execution_count": 12,
   "metadata": {},
   "outputs": [],
   "source": [
    "def create_new_generation(selecteds):\n",
    "    i = 0\n",
    "    new_generation = []\n",
    "    while i < len(selecteds):\n",
    "        parent_one = selecteds[i]\n",
    "        parent_two = selecteds[i+1]\n",
    "        \n",
    "        child_one, child_two = crossover(parent_one, parent_two)\n",
    "        \n",
    "        #Mutante\n",
    "        child_one = mutation(child_one)\n",
    "        child_two = mutation(child_two)\n",
    "        \n",
    "        new_generation.append(child_one)\n",
    "        new_generation.append(child_two)\n",
    "        \n",
    "        i += 2\n",
    "        \n",
    "    return new_generation"
   ]
  },
  {
   "cell_type": "markdown",
   "metadata": {},
   "source": [
    "### Inicialização do Caixeiro viajante.\n",
    "\n",
    "Foi mapeado as cidades de acordo com seu indice da lista inicial gerada pelos arquivos passados.\n",
    "Então, os cromossomos são representados por **NÚMEROS** referente a **POSIÇÃO** das cidades no array.\n",
    "\n",
    "### Condição de parada\n",
    "\n",
    "Não foi definida uma condição de parada do algoritmo, ele vai rodar o algoritmo por uma quantidade fixa de gerações."
   ]
  },
  {
   "cell_type": "code",
   "execution_count": 13,
   "metadata": {
    "scrolled": true
   },
   "outputs": [],
   "source": [
    "# Cria uma população inicial aleatoria\n",
    "population = create_random_paths(cities)\n",
    "\n",
    "# Roda 1000 gerações\n",
    "for i in range(0, 1000):\n",
    "    # Monta estrutura da roleta\n",
    "    roulette = ride_roulette(population)\n",
    "    \n",
    "    # Roda a roleta ´N´ vezes para pegar os novos selecionados e cria uma lista com eles.\n",
    "    new_selects = [spin_roulette(roulette)[0] for i in range(0, amount_select)]\n",
    "    \n",
    "    # A partir dos novos selecionados, faz os cruzamentos e as mutações.\n",
    "    population = create_new_generation(new_selects)"
   ]
  },
  {
   "cell_type": "markdown",
   "metadata": {},
   "source": [
    "### Resultado final\n",
    "Da população gerada a partir da quantidade de gerações, ele pega a lista com menor função de aptidão e retorna como resultado."
   ]
  },
  {
   "cell_type": "code",
   "execution_count": 14,
   "metadata": {
    "scrolled": true
   },
   "outputs": [
    {
     "data": {
      "text/plain": [
       "4544.995036820796"
      ]
     },
     "execution_count": 14,
     "metadata": {},
     "output_type": "execute_result"
    }
   ],
   "source": [
    "fitness_func(min(population, key=lambda x: fitness_func(x,cities)),cities)"
   ]
  }
 ],
 "metadata": {
  "kernelspec": {
   "display_name": "Python 3",
   "language": "python",
   "name": "python3"
  },
  "language_info": {
   "codemirror_mode": {
    "name": "ipython",
    "version": 3
   },
   "file_extension": ".py",
   "mimetype": "text/x-python",
   "name": "python",
   "nbconvert_exporter": "python",
   "pygments_lexer": "ipython3",
   "version": "3.5.2"
  }
 },
 "nbformat": 4,
 "nbformat_minor": 2
}
